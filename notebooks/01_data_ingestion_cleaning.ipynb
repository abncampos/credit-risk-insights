{
 "cells": [
  {
   "cell_type": "markdown",
   "id": "9c2cc579",
   "metadata": {},
   "source": [
    "# 01 - Data Ingestion & Cleaning\n",
    "\n",
    "This notebook loads Eurostat NPL data (macro) and the German Credit dataset (micro). It is designed to be robust: place the German Credit CSV at `data/raw/german_credit.csv` before running, or update the path accordingly."
   ]
  },
  {
   "cell_type": "code",
   "execution_count": null,
   "id": "fa380a9c",
   "metadata": {},
   "outputs": [],
   "source": [
    "import pandas as pd\n",
    "from pathlib import Path\n",
    "\n",
    "DATA_DIR = Path('data')\n",
    "RAW_DIR = DATA_DIR / 'raw'\n",
    "PROCESSED_DIR = DATA_DIR / 'processed'\n",
    "RAW_DIR.mkdir(parents=True, exist_ok=True)\n",
    "PROCESSED_DIR.mkdir(parents=True, exist_ok=True)\n",
    "\n",
    "print('Directories ready:', RAW_DIR.resolve(), PROCESSED_DIR.resolve())"
   ]
  },
  {
   "cell_type": "markdown",
   "id": "d7f741f4",
   "metadata": {},
   "source": [
    "## Load German Credit CSV\n",
    "Download the German Credit dataset from Kaggle or UCI and place it at `data/raw/german_credit.csv`. If you have a different filename, update the path below."
   ]
  },
  {
   "cell_type": "code",
   "execution_count": null,
   "id": "d6480477",
   "metadata": {},
   "outputs": [],
   "source": [
    "german_path = RAW_DIR / 'german_credit.csv'\n",
    "if german_path.exists():\n",
    "    df = pd.read_csv(german_path)\n",
    "    print('Loaded German Credit dataset with shape:', df.shape)\n",
    "else:\n",
    "    print('File not found:', german_path)\n",
    "    print('Please download the dataset from Kaggle (https://www.kaggle.com/datasets/uciml/german-credit) or UCI and save as data/raw/german_credit.csv')"
   ]
  },
  {
   "cell_type": "markdown",
   "id": "0047d9bb",
   "metadata": {},
   "source": [
    "## Example: Load Eurostat CSV (if you have a direct CSV link)\n",
    "Eurostat bulk downloads sometimes require specific endpoints. If you have a CSV URL, paste it below. Otherwise, download manually from Eurostat and place in `data/raw/`."
   ]
  },
  {
   "cell_type": "code",
   "execution_count": null,
   "id": "7627d9d5",
   "metadata": {},
   "outputs": [],
   "source": [
    "eurostat_local = RAW_DIR / 'eurostat_npl.csv'\n",
    "if eurostat_local.exists():\n",
    "    euro = pd.read_csv(eurostat_local)\n",
    "    print('Loaded Eurostat NPL dataset with shape:', euro.shape)\n",
    "else:\n",
    "    print('Eurostat CSV not found locally. You can download relevant NPL tables from Eurostat (e.g. https://ec.europa.eu/eurostat/databrowser).')"
   ]
  },
  {
   "cell_type": "markdown",
   "id": "a0958d1e",
   "metadata": {},
   "source": [
    "## Basic cleaning example (German Credit)\n",
    "This cell shows a conservative preprocessing approach: lowercase columns, strip whitespace, and show basic info."
   ]
  },
  {
   "cell_type": "code",
   "execution_count": null,
   "id": "d3b205e3",
   "metadata": {},
   "outputs": [],
   "source": [
    "if german_path.exists():\n",
    "    df_clean = df.copy()\n",
    "    df_clean.columns = [c.strip().lower().replace(' ', '_') for c in df_clean.columns]\n",
    "    display(df_clean.head())\n",
    "    df_clean.to_csv(PROCESSED_DIR / 'german_credit_clean.csv', index=False)\n",
    "    print('Saved cleaned German Credit to', (PROCESSED_DIR / 'german_credit_clean.csv'))\n",
    "else:\n",
    "    print('No german credit file to process yet.')"
   ]
  }
 ],
 "metadata": {},
 "nbformat": 4,
 "nbformat_minor": 5
}
