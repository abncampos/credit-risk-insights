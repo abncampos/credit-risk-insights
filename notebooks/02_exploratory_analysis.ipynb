{
 "cells": [
  {
   "cell_type": "markdown",
   "id": "81e883af",
   "metadata": {},
   "source": [
    "# 02 - Exploratory Data Analysis (Micro + Macro)"
   ]
  },
  {
   "cell_type": "markdown",
   "id": "742aafef",
   "metadata": {},
   "source": [
    "In this notebook, I personally explore the German Credit dataset along with Eurostat Non-Performing Loans data to uncover meaningful patterns in credit risk. All analysis below reflects my approach and reasoning, fully reproducible for local, Colab, or Kaggle execution."
   ]
  },
  {
   "cell_type": "code",
   "execution_count": null,
   "id": "1525c5b3",
   "metadata": {},
   "outputs": [],
   "source": [
    "import pandas as pd\n",
    "import numpy as np\n",
    "import matplotlib.pyplot as plt\n",
    "import seaborn as sns\n",
    "import plotly.express as px\n",
    "\n",
    "from pathlib import Path\n",
    "DATA_DIR = Path('../data')\n",
    "PROCESSED_DIR = DATA_DIR / 'processed'\n",
    "RAW_DIR = DATA_DIR / 'raw'\n",
    "\n",
    "PROCESSED_DIR.mkdir(exist_ok=True, parents=True)\n",
    "RAW_DIR.mkdir(exist_ok=True, parents=True)"
   ]
  },
  {
   "cell_type": "markdown",
   "id": "40d09fc9",
   "metadata": {},
   "source": [
    "## 1. Load German Credit Dataset (processed)"
   ]
  },
  {
   "cell_type": "code",
   "execution_count": null,
   "id": "ae450239",
   "metadata": {},
   "outputs": [],
   "source": [
    "german_path = PROCESSED_DIR / 'german_credit_clean.csv'\n",
    "if german_path.exists():\n",
    "    credit_data = pd.read_csv(german_path)\n",
    "    print('Loaded German Credit dataset:', credit_data.shape)\n",
    "else:\n",
    "    print('German Credit dataset not found. Please run 01_data_ingestion_cleaning.ipynb first.')"
   ]
  },
  {
   "cell_type": "markdown",
   "id": "2d963ae5",
   "metadata": {},
   "source": [
    "## 2. Load Eurostat NPL Dataset (macro)"
   ]
  },
  {
   "cell_type": "code",
   "execution_count": null,
   "id": "3d0ac7f8",
   "metadata": {},
   "outputs": [],
   "source": [
    "eurostat_path = RAW_DIR / 'eurostat_npl.csv'\n",
    "if eurostat_path.exists():\n",
    "    macro_npl = pd.read_csv(eurostat_path)\n",
    "    print('Loaded Eurostat NPL dataset:', macro_npl.shape)\n",
    "else:\n",
    "    print('Eurostat dataset not found. Please download CSV from Eurostat and save as data/raw/eurostat_npl.csv')"
   ]
  },
  {
   "cell_type": "markdown",
   "id": "41fc76c2",
   "metadata": {},
   "source": [
    "## 3. Overview of Micro Dataset"
   ]
  },
  {
   "cell_type": "code",
   "execution_count": null,
   "id": "56d8a8db",
   "metadata": {},
   "outputs": [],
   "source": [
    "if 'credit_data' in locals():\n",
    "    display(credit_data.info())\n",
    "    display(credit_data.describe())\n",
    "    display(credit_data.head())"
   ]
  },
  {
   "cell_type": "markdown",
   "id": "3ef15a68",
   "metadata": {},
   "source": [
    "## 4. Micro-level Visualizations (German Credit)"
   ]
  },
  {
   "cell_type": "code",
   "execution_count": null,
   "id": "664b5342",
   "metadata": {},
   "outputs": [],
   "source": [
    "if 'credit_data' in locals():\n",
    "    numeric_cols = credit_data.select_dtypes(include=[np.number]).columns.tolist()\n",
    "    # Histograms\n",
    "    credit_data[numeric_cols].hist(bins=20, figsize=(12,8))\n",
    "    plt.suptitle('Distribution of Numeric Features (Micro)')\n",
    "    plt.show()\n",
    "    \n",
    "    # Correlation heatmap\n",
    "    plt.figure(figsize=(10,8))\n",
    "    sns.heatmap(credit_data[numeric_cols].corr(), annot=True, fmt='.2f', cmap='coolwarm')\n",
    "    plt.title('Correlation Heatmap (Micro)')\n",
    "    plt.show()"
   ]
  },
  {
   "cell_type": "markdown",
   "id": "8b6b1951",
   "metadata": {},
   "source": [
    "## 5. Macro-level Visualizations (Eurostat NPL)"
   ]
  },
  {
   "cell_type": "code",
   "execution_count": null,
   "id": "ec91ac5c",
   "metadata": {},
   "outputs": [],
   "source": [
    "if 'macro_npl' in locals():\n",
    "    # Assuming columns: Country, Year, NPL_ratio\n",
    "    if set(['Country','Year','NPL_ratio']).issubset(macro_npl.columns):\n",
    "        fig = px.line(macro_npl, x='Year', y='NPL_ratio', color='Country', title='Non-Performing Loan Ratio by Country')\n",
    "        fig.show()\n",
    "    else:\n",
    "        print('Check column names for Eurostat dataset: expected Country, Year, NPL_ratio')"
   ]
  },
  {
   "cell_type": "markdown",
   "id": "685e4e01",
   "metadata": {},
   "source": [
    "## 6. My Observations and Insights\n",
    "- Observe correlations between numeric features and default.\n",
    "- Note patterns in categorical variables vs default.\n",
    "- Macro NPL trends may align with periods of higher default in micro-level data."
   ]
  }
 ],
 "metadata": {},
 "nbformat": 4,
 "nbformat_minor": 5
}
